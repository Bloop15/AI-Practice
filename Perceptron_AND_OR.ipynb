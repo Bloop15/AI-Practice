{
  "nbformat": 4,
  "nbformat_minor": 0,
  "metadata": {
    "colab": {
      "provenance": [],
      "authorship_tag": "ABX9TyOAVcxt8ctarUjyTfJ/rNqc",
      "include_colab_link": true
    },
    "kernelspec": {
      "name": "python3",
      "display_name": "Python 3"
    },
    "language_info": {
      "name": "python"
    }
  },
  "cells": [
    {
      "cell_type": "markdown",
      "metadata": {
        "id": "view-in-github",
        "colab_type": "text"
      },
      "source": [
        "<a href=\"https://colab.research.google.com/github/Bloop15/AI-Practice/blob/main/Perceptron_AND_OR.ipynb\" target=\"_parent\"><img src=\"https://colab.research.google.com/assets/colab-badge.svg\" alt=\"Open In Colab\"/></a>"
      ]
    },
    {
      "cell_type": "code",
      "execution_count": 2,
      "metadata": {
        "id": "foRbeikDCRuJ"
      },
      "outputs": [],
      "source": [
        "import numpy as np\n",
        "from sklearn.linear_model import Perceptron"
      ]
    },
    {
      "cell_type": "code",
      "source": [
        "X=np.array([\n",
        "    [0, 0],\n",
        "    [0, 1],\n",
        "    [1, 0],\n",
        "    [1, 1]\n",
        "])\n",
        "\n",
        "y_and= np.array([0, 0, 0, 1])\n",
        "y_or= np.array([0, 1, 1, 1])\n"
      ],
      "metadata": {
        "id": "ug_r18XZDFjo"
      },
      "execution_count": 4,
      "outputs": []
    },
    {
      "cell_type": "code",
      "source": [
        "def train_gate(X, y, gate_name):\n",
        "  model= Perceptron(max_iter=1000, tol=1e-3, random_state=42)\n",
        "  model.fit(X, y)\n",
        "\n",
        "  print(f\"\\n{gate_name} Gate Results: \")\n",
        "  for i in X:\n",
        "    pred= model.predict([i])\n",
        "    print(f\"Input: {i}, Output: {pred}\")\n",
        "  print(\"-\"*50)\n",
        ""
      ],
      "metadata": {
        "id": "hwt7n6_ODqCI"
      },
      "execution_count": 6,
      "outputs": []
    },
    {
      "cell_type": "code",
      "source": [
        "train_gate(X, y_and, \"AND\")"
      ],
      "metadata": {
        "colab": {
          "base_uri": "https://localhost:8080/"
        },
        "id": "R_yuIR3ZETNw",
        "outputId": "af4b0751-7e50-4921-b47e-47aa8906b343"
      },
      "execution_count": 7,
      "outputs": [
        {
          "output_type": "stream",
          "name": "stdout",
          "text": [
            "\n",
            "AND Gate Results: \n",
            "Input: [0 0], Output: [0]\n",
            "Input: [0 1], Output: [0]\n",
            "Input: [1 0], Output: [0]\n",
            "Input: [1 1], Output: [1]\n",
            "--------------------------------------------------\n"
          ]
        }
      ]
    },
    {
      "cell_type": "code",
      "source": [
        "train_gate(X, y_or, \"OR\")"
      ],
      "metadata": {
        "colab": {
          "base_uri": "https://localhost:8080/"
        },
        "id": "qTIZdEW5EYrg",
        "outputId": "dbff9816-93e2-4721-8713-52cffbb2adf9"
      },
      "execution_count": 8,
      "outputs": [
        {
          "output_type": "stream",
          "name": "stdout",
          "text": [
            "\n",
            "OR Gate Results: \n",
            "Input: [0 0], Output: [0]\n",
            "Input: [0 1], Output: [1]\n",
            "Input: [1 0], Output: [1]\n",
            "Input: [1 1], Output: [1]\n",
            "--------------------------------------------------\n"
          ]
        }
      ]
    },
    {
      "cell_type": "code",
      "source": [],
      "metadata": {
        "id": "ooQG-JmHJs2M"
      },
      "execution_count": null,
      "outputs": []
    }
  ]
}